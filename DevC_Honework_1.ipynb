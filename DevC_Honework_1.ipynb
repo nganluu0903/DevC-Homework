{
 "cells": [
  {
   "cell_type": "markdown",
   "metadata": {},
   "source": [
    "# Assignment Submission 1 - The Hacker Rank\n"
   ]
  },
  {
   "cell_type": "markdown",
   "metadata": {},
   "source": [
    "## 1. Python"
   ]
  },
  {
   "cell_type": "markdown",
   "metadata": {},
   "source": [
    "#### Problem 1:\n",
    "**Task** \n",
    "Given an integer, , perform the following conditional actions:\n",
    "\n",
    "* If `n` is odd, print *Weird*\n",
    "* If `n` is even and in the inclusive range of 2 to 5, print *Not Weird*\n",
    "* If `n` is even and in the inclusive range of 6 to 20, print *Weird*\n",
    "* If `n` is even and greater than 20, print *Not Weird*\n",
    "\n",
    "**Input Format**\n",
    "\n",
    "A single line containing a positive integer, .\n",
    "\n",
    "**Constrants**\n",
    "\n",
    "$\\ 1\\leq n\\leq 100 .$\n",
    "\n",
    "**Output Format**\n",
    "\n",
    "Print Weird if the number is weird; otherwise, print Not Weird."
   ]
  },
  {
   "cell_type": "code",
   "execution_count": 30,
   "metadata": {},
   "outputs": [
    {
     "name": "stdout",
     "output_type": "stream",
     "text": [
      "23\n",
      "Weird\n"
     ]
    }
   ],
   "source": [
    "n=int(input())\n",
    "if n == 2 or n==4 or (n>20 and n%2==0):\n",
    "    print(\"Not Weird\")\n",
    "else:\n",
    "    print(\"Weird\")"
   ]
  },
  {
   "cell_type": "markdown",
   "metadata": {},
   "source": [
    "#### Problem 2:\n",
    "**Task** \n",
    "Read two integers from STDIN and print three lines where:\n",
    "\n",
    "1. The first line contains the sum of the two numbers.\n",
    "2. The second line contains the difference of the two numbers (first - second).\n",
    "3. The third line contains the product of the two numbers.\n",
    "\n",
    "**Input Format**\n",
    "\n",
    "The first line contains the first integer,`a` . The second line contains the second integer,`b` .\n",
    "\n",
    "**Constrants**\n",
    "\n",
    "$1\\leq a\\leq 10^{10}$\n",
    "\n",
    "$1\\leq b\\leq 10^{10}$\n",
    "\n",
    "**Output Format**\n",
    "\n",
    "Print the three lines as explained above\n",
    "**Sample Input 0**\n",
    "3\n",
    "2\n",
    "**Sample Output 0**\n",
    "5\n",
    "1\n",
    "6\n",
    "**Explanation 0**\n",
    "\n",
    "$3+2\\Rightarrow 5$\n",
    "\n",
    "$3-2\\Rightarrow 1$\n",
    "\n",
    "$3*2\\Rightarrow 6$"
   ]
  },
  {
   "cell_type": "code",
   "execution_count": 48,
   "metadata": {},
   "outputs": [
    {
     "name": "stdout",
     "output_type": "stream",
     "text": [
      "3\n",
      "2\n",
      "5\n",
      "1\n",
      "6\n"
     ]
    }
   ],
   "source": [
    "a = int(input())\n",
    "b = int(input())\n",
    "print (a+b)\n",
    "print (a-b)\n",
    "print (a*b)"
   ]
  },
  {
   "cell_type": "markdown",
   "metadata": {},
   "source": [
    "#### Problem 3:\n",
    "Read an integer `N`.\n",
    "\n",
    "Without using any string methods, try to print the following:\n",
    "\n",
    "`123...N`\n",
    "\n",
    "Note that \"`...`\" represents the values in between.\n",
    "\n",
    "**Input Format**\n",
    "\n",
    "The first line contains an integer `N`.\n",
    "\n",
    "**Output Format**\n",
    "\n",
    "Output the answer as explained in the task.\n",
    "\n",
    "**Sample Input 0**\n",
    "\n",
    "3\n",
    "\n",
    "**Sample Output 0**\n",
    "\n",
    "123\n",
    "\n"
   ]
  },
  {
   "cell_type": "code",
   "execution_count": 72,
   "metadata": {
    "scrolled": true
   },
   "outputs": [
    {
     "name": "stdout",
     "output_type": "stream",
     "text": [
      "3\n",
      "123\n"
     ]
    }
   ],
   "source": [
    "n=int(input())\n",
    "out=\"\".join(str(i) for i in range(1,n+1))\n",
    "print(out)"
   ]
  },
  {
   "cell_type": "markdown",
   "metadata": {},
   "source": [
    "### Problem 3 \n",
    "\n",
    "**Input Format**\n",
    "\n",
    "The first line contains `n`. The second line contains an array `A[]`  of `n` integers each separated by a space.\n",
    "\n",
    "**Constraints**\n",
    "\n",
    "$2\\leq n\\leq 10$\n",
    "\n",
    "$-100\\leq A[i]\\leq 100$\n",
    "\n",
    "**Output Format**\n",
    "Print the runner-up score\n",
    "\n"
   ]
  },
  {
   "cell_type": "code",
   "execution_count": 29,
   "metadata": {},
   "outputs": [
    {
     "name": "stdout",
     "output_type": "stream",
     "text": [
      "2\n",
      "2 5 6 6 4\n",
      "5\n"
     ]
    }
   ],
   "source": [
    "n = int(input())\n",
    "arr = list(map(int, input().split()))\n",
    "new=[]\n",
    "m=max(arr)\n",
    "for item in arr:\n",
    "    if item !=m:\n",
    "        new.append(item)\n",
    "print(max(new))"
   ]
  },
  {
   "cell_type": "markdown",
   "metadata": {},
   "source": [
    "### Problem 4\n",
    "\n",
    "Given the names and grades for each student in a Physics class of `N` students, store them in a nested list and print the name(s) of any student(s) having the second lowest grade.\n",
    "\n",
    "**Note**: If there are multiple students with the same grade, order their names alphabetically and print each name on a new line.\n",
    "\n",
    "**Input Format**\n",
    "\n",
    "The first line contains an integer,`N` , the number of students. \n",
    "The `2N` subsequent lines describe each student over 2 lines; the first line contains a student's name, and the second line contains their grade.\n",
    "\n",
    "**Constraints**\n",
    "\n",
    "$2\\leq N \\leq 5$\n",
    "\n",
    "There will always be one or more students having the second lowest grade.\n",
    "\n",
    "**Output Format**\n",
    "\n",
    "Print the name(s) of any student(s) having the second lowest grade in Physics; if there are multiple students, order their names alphabetically and print each one on a new line."
   ]
  },
  {
   "cell_type": "code",
   "execution_count": 2,
   "metadata": {},
   "outputs": [
    {
     "name": "stdout",
     "output_type": "stream",
     "text": [
      "4\n",
      "ngan\n",
      "1\n",
      "han\n",
      "2\n",
      "tha\n",
      "3\n",
      "thin\n",
      "2\n",
      "['han', 'thin']\n"
     ]
    }
   ],
   "source": [
    "listName=[]\n",
    "listScore=[]\n",
    "out=[]\n",
    "for _ in range(int(input())):\n",
    "    name = input()\n",
    "    listName.append(name)\n",
    "    score = float(input())\n",
    "    listScore.append(score)\n",
    "    \n",
    "new=listScore.copy()\n",
    "\n",
    "mini=min(listScore)\n",
    "\n",
    "while min(listScore)==mini:\n",
    "    listScore.remove(min(listScore))\n",
    "\n",
    "mini=min(listScore)\n",
    "for index,score in enumerate(new):\n",
    "    if score==mini:\n",
    "        out.append(listName[index])\n",
    "out.sort()\n",
    "for name in out:\n",
    "    print(name)"
   ]
  },
  {
   "cell_type": "markdown",
   "metadata": {},
   "source": [
    "### Problem 3\n",
    "\n",
    "You have a record of `N` students. Each record contains the student's name, and their percent marks in Maths, Physics and Chemistry. The marks can be floating values. The user enters some integer `N` followed by the names and marks for `N` students. You are required to save the record in a dictionary data type. The user then enters a student's name. Output the average percentage marks obtained by that student, correct to two decimal places.\n",
    "\n",
    "**Input Format**\n",
    "\n",
    "The first line contains the integer `N`, the number of students. The next `N` lines contains the name and marks obtained by that student separated by a space. The final line contains the name of a particular student previously listed.\n",
    "\n",
    "**Constraints**\n",
    "\n",
    "$2\\leq N\\leq 10$\n",
    "\n",
    "$0\\leq Marks \\leq 100$\n",
    "\n",
    "**OutputFormat**\n",
    "Print one line: The average of the marks obtained by the particular student correct to 2 decimal places."
   ]
  },
  {
   "cell_type": "code",
   "execution_count": null,
   "metadata": {},
   "outputs": [],
   "source": [
    "n = int(input())\n",
    "student_marks = {}\n",
    "for _ in range(n):\n",
    "    name, *line = input().split()\n",
    "    scores = list(map(float, line))\n",
    "    avg=round(sum(scores)/len(scores),2)\n",
    "    student_marks[name] = avg\n",
    "    \n",
    "query_name = input()\n",
    "\n",
    "print(\"{:.2f}\".format(student_marks[query_name]))"
   ]
  },
  {
   "cell_type": "markdown",
   "metadata": {},
   "source": [
    "## 2. SQL"
   ]
  },
  {
   "cell_type": "markdown",
   "metadata": {},
   "source": [
    "### Problem 1\n",
    "\n",
    "Query all columns (attributes) for every row in the **CITY** table.\n",
    "\n",
    "**Input Format**\n",
    "The **CITY** table is described as follows:\n",
    "\n",
    "| Field | Type |\n",
    "|:----:|:---:|\n",
    "| ID | NUMBER |\n",
    "| NAME | VARCHAR2(17) |\n",
    "| COUNTRYCODE | VARCHAR2(3) |\n",
    "| DISTRICT | VARCHAR2(20) |\n",
    "| POPULATION | NUMBER |\n"
   ]
  },
  {
   "cell_type": "code",
   "execution_count": null,
   "metadata": {},
   "outputs": [],
   "source": [
    " SELECT * from city;"
   ]
  },
  {
   "cell_type": "markdown",
   "metadata": {},
   "source": [
    "### Problem 2\n",
    "\n",
    "Query all columns for a city in **CITY** with the ID 1661.\n"
   ]
  },
  {
   "cell_type": "code",
   "execution_count": null,
   "metadata": {},
   "outputs": [],
   "source": [
    "SELECT * from city WHERE ID=1661"
   ]
  },
  {
   "cell_type": "markdown",
   "metadata": {},
   "source": [
    "### Problem 3\n",
    "\n",
    "Query all attributes of every Japanese city in the **CITY** table. The COUNTRYCODE for Japan is JPN."
   ]
  },
  {
   "cell_type": "code",
   "execution_count": null,
   "metadata": {},
   "outputs": [],
   "source": [
    "SELECT * FROM city WHERE COUNTRYCODE LIKE \"JPN\""
   ]
  },
  {
   "cell_type": "markdown",
   "metadata": {},
   "source": [
    "### Problem 3\n",
    "\n",
    "Query the names of all the Japanese cities in the **CITY** table. The COUNTRYCODE for Japan is JPN."
   ]
  },
  {
   "cell_type": "code",
   "execution_count": null,
   "metadata": {},
   "outputs": [],
   "source": [
    "SELECT NAME FROM city WHERE COUNTRYCODE LIKE \"JPN\""
   ]
  },
  {
   "cell_type": "markdown",
   "metadata": {},
   "source": [
    "### Problem 4\n",
    "\n",
    "Query a list of CITY and STATE from the **STATION** table.\n",
    "\n",
    "| Field | Type |\n",
    "|:----:|:---:|\n",
    "|ID|VARCHAR2(21)|\n",
    "|CITY|VARCHAR2(2)|\n",
    "|LAT_N|NUMBER|\n",
    "|LONG_W|NUMBER|\n",
    "\n",
    "where LAT_N is the northern latitude and LONG_W is the western longitude."
   ]
  },
  {
   "cell_type": "code",
   "execution_count": null,
   "metadata": {},
   "outputs": [],
   "source": []
  },
  {
   "cell_type": "code",
   "execution_count": null,
   "metadata": {},
   "outputs": [],
   "source": []
  }
 ],
 "metadata": {
  "kernelspec": {
   "display_name": "Python 3",
   "language": "python",
   "name": "python3"
  }
 },
 "nbformat": 4,
 "nbformat_minor": 2
}
