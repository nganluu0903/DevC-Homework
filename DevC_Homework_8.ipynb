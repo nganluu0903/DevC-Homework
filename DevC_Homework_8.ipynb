{
 "cells": [
  {
   "cell_type": "markdown",
   "metadata": {},
   "source": [
    "Porto Seguro's Safe Driver Prediction\n",
    "===="
   ]
  },
  {
   "cell_type": "markdown",
   "metadata": {},
   "source": [
    "## Introduction\n",
    "[This competition](https://www.kaggle.com/c/porto-seguro-safe-driver-prediction/data) is hosted by the third largest insurance company in Brazil: Porto Seguro with the task of predicting the probability that a driver will initiate an insurance claim in the next year.\n",
    "\n",
    "In the train data, features that belong to similar groupings are tagged as such in the feature names (e.g., ind, reg, car, calc). In addition, feature names include the postfix bin to indicate binary features and cat to indicate categorical features. Features without these designations are either continuous or ordinal. **Values of -1 indicate that the feature was missing** from the observation. The target columns signifies whether or not a claim was filed for that policy holder\n",
    "\n",
    "train.csv contains the training data, where each row corresponds to a policy holder, and the target columns signifies that a claim was filed.\n"
   ]
  },
  {
   "cell_type": "code",
   "execution_count": 1,
   "metadata": {},
   "outputs": [],
   "source": [
    "# Import libraries\n",
    "import pandas as pd\n",
    "import numpy as np\n",
    "import matplotlib.pyplot as plt\n",
    "import seaborn as sns\n",
    "import warnings\n",
    "warnings.filterwarnings('ignore')"
   ]
  },
  {
   "cell_type": "code",
   "execution_count": 2,
   "metadata": {},
   "outputs": [],
   "source": [
    "# Read csv file and take a look at it\n",
    "train = pd.read_csv('train/train.csv')"
   ]
  },
  {
   "cell_type": "code",
   "execution_count": 3,
   "metadata": {},
   "outputs": [
    {
     "data": {
      "text/html": [
       "<div>\n",
       "<style scoped>\n",
       "    .dataframe tbody tr th:only-of-type {\n",
       "        vertical-align: middle;\n",
       "    }\n",
       "\n",
       "    .dataframe tbody tr th {\n",
       "        vertical-align: top;\n",
       "    }\n",
       "\n",
       "    .dataframe thead th {\n",
       "        text-align: right;\n",
       "    }\n",
       "</style>\n",
       "<table border=\"1\" class=\"dataframe\">\n",
       "  <thead>\n",
       "    <tr style=\"text-align: right;\">\n",
       "      <th></th>\n",
       "      <th>id</th>\n",
       "      <th>target</th>\n",
       "      <th>ps_ind_01</th>\n",
       "      <th>ps_ind_02_cat</th>\n",
       "      <th>ps_ind_03</th>\n",
       "      <th>ps_ind_04_cat</th>\n",
       "      <th>ps_ind_05_cat</th>\n",
       "      <th>ps_ind_06_bin</th>\n",
       "      <th>ps_ind_07_bin</th>\n",
       "      <th>ps_ind_08_bin</th>\n",
       "      <th>...</th>\n",
       "      <th>ps_calc_11</th>\n",
       "      <th>ps_calc_12</th>\n",
       "      <th>ps_calc_13</th>\n",
       "      <th>ps_calc_14</th>\n",
       "      <th>ps_calc_15_bin</th>\n",
       "      <th>ps_calc_16_bin</th>\n",
       "      <th>ps_calc_17_bin</th>\n",
       "      <th>ps_calc_18_bin</th>\n",
       "      <th>ps_calc_19_bin</th>\n",
       "      <th>ps_calc_20_bin</th>\n",
       "    </tr>\n",
       "  </thead>\n",
       "  <tbody>\n",
       "    <tr>\n",
       "      <td>0</td>\n",
       "      <td>7</td>\n",
       "      <td>0</td>\n",
       "      <td>2</td>\n",
       "      <td>2</td>\n",
       "      <td>5</td>\n",
       "      <td>1</td>\n",
       "      <td>0</td>\n",
       "      <td>0</td>\n",
       "      <td>1</td>\n",
       "      <td>0</td>\n",
       "      <td>...</td>\n",
       "      <td>9</td>\n",
       "      <td>1</td>\n",
       "      <td>5</td>\n",
       "      <td>8</td>\n",
       "      <td>0</td>\n",
       "      <td>1</td>\n",
       "      <td>1</td>\n",
       "      <td>0</td>\n",
       "      <td>0</td>\n",
       "      <td>1</td>\n",
       "    </tr>\n",
       "    <tr>\n",
       "      <td>1</td>\n",
       "      <td>9</td>\n",
       "      <td>0</td>\n",
       "      <td>1</td>\n",
       "      <td>1</td>\n",
       "      <td>7</td>\n",
       "      <td>0</td>\n",
       "      <td>0</td>\n",
       "      <td>0</td>\n",
       "      <td>0</td>\n",
       "      <td>1</td>\n",
       "      <td>...</td>\n",
       "      <td>3</td>\n",
       "      <td>1</td>\n",
       "      <td>1</td>\n",
       "      <td>9</td>\n",
       "      <td>0</td>\n",
       "      <td>1</td>\n",
       "      <td>1</td>\n",
       "      <td>0</td>\n",
       "      <td>1</td>\n",
       "      <td>0</td>\n",
       "    </tr>\n",
       "    <tr>\n",
       "      <td>2</td>\n",
       "      <td>13</td>\n",
       "      <td>0</td>\n",
       "      <td>5</td>\n",
       "      <td>4</td>\n",
       "      <td>9</td>\n",
       "      <td>1</td>\n",
       "      <td>0</td>\n",
       "      <td>0</td>\n",
       "      <td>0</td>\n",
       "      <td>1</td>\n",
       "      <td>...</td>\n",
       "      <td>4</td>\n",
       "      <td>2</td>\n",
       "      <td>7</td>\n",
       "      <td>7</td>\n",
       "      <td>0</td>\n",
       "      <td>1</td>\n",
       "      <td>1</td>\n",
       "      <td>0</td>\n",
       "      <td>1</td>\n",
       "      <td>0</td>\n",
       "    </tr>\n",
       "    <tr>\n",
       "      <td>3</td>\n",
       "      <td>16</td>\n",
       "      <td>0</td>\n",
       "      <td>0</td>\n",
       "      <td>1</td>\n",
       "      <td>2</td>\n",
       "      <td>0</td>\n",
       "      <td>0</td>\n",
       "      <td>1</td>\n",
       "      <td>0</td>\n",
       "      <td>0</td>\n",
       "      <td>...</td>\n",
       "      <td>2</td>\n",
       "      <td>2</td>\n",
       "      <td>4</td>\n",
       "      <td>9</td>\n",
       "      <td>0</td>\n",
       "      <td>0</td>\n",
       "      <td>0</td>\n",
       "      <td>0</td>\n",
       "      <td>0</td>\n",
       "      <td>0</td>\n",
       "    </tr>\n",
       "    <tr>\n",
       "      <td>4</td>\n",
       "      <td>17</td>\n",
       "      <td>0</td>\n",
       "      <td>0</td>\n",
       "      <td>2</td>\n",
       "      <td>0</td>\n",
       "      <td>1</td>\n",
       "      <td>0</td>\n",
       "      <td>1</td>\n",
       "      <td>0</td>\n",
       "      <td>0</td>\n",
       "      <td>...</td>\n",
       "      <td>3</td>\n",
       "      <td>1</td>\n",
       "      <td>1</td>\n",
       "      <td>3</td>\n",
       "      <td>0</td>\n",
       "      <td>0</td>\n",
       "      <td>0</td>\n",
       "      <td>1</td>\n",
       "      <td>1</td>\n",
       "      <td>0</td>\n",
       "    </tr>\n",
       "  </tbody>\n",
       "</table>\n",
       "<p>5 rows × 59 columns</p>\n",
       "</div>"
      ],
      "text/plain": [
       "   id  target  ps_ind_01  ps_ind_02_cat  ps_ind_03  ps_ind_04_cat  \\\n",
       "0   7       0          2              2          5              1   \n",
       "1   9       0          1              1          7              0   \n",
       "2  13       0          5              4          9              1   \n",
       "3  16       0          0              1          2              0   \n",
       "4  17       0          0              2          0              1   \n",
       "\n",
       "   ps_ind_05_cat  ps_ind_06_bin  ps_ind_07_bin  ps_ind_08_bin  ...  \\\n",
       "0              0              0              1              0  ...   \n",
       "1              0              0              0              1  ...   \n",
       "2              0              0              0              1  ...   \n",
       "3              0              1              0              0  ...   \n",
       "4              0              1              0              0  ...   \n",
       "\n",
       "   ps_calc_11  ps_calc_12  ps_calc_13  ps_calc_14  ps_calc_15_bin  \\\n",
       "0           9           1           5           8               0   \n",
       "1           3           1           1           9               0   \n",
       "2           4           2           7           7               0   \n",
       "3           2           2           4           9               0   \n",
       "4           3           1           1           3               0   \n",
       "\n",
       "   ps_calc_16_bin  ps_calc_17_bin  ps_calc_18_bin  ps_calc_19_bin  \\\n",
       "0               1               1               0               0   \n",
       "1               1               1               0               1   \n",
       "2               1               1               0               1   \n",
       "3               0               0               0               0   \n",
       "4               0               0               1               1   \n",
       "\n",
       "   ps_calc_20_bin  \n",
       "0               1  \n",
       "1               0  \n",
       "2               0  \n",
       "3               0  \n",
       "4               0  \n",
       "\n",
       "[5 rows x 59 columns]"
      ]
     },
     "execution_count": 3,
     "metadata": {},
     "output_type": "execute_result"
    }
   ],
   "source": [
    "train.head()"
   ]
  },
  {
   "cell_type": "code",
   "execution_count": 4,
   "metadata": {},
   "outputs": [
    {
     "name": "stdout",
     "output_type": "stream",
     "text": [
      "The train dataset contains 595212 rows and 59 columns\n"
     ]
    }
   ],
   "source": [
    "# Taking a look at how many rows and columns the train dataset contains\n",
    "rows=len(train)\n",
    "columns=len(train.columns)\n",
    "\n",
    "print(\"The train dataset contains {} rows and {} columns\".format(rows, columns))"
   ]
  },
  {
   "cell_type": "markdown",
   "metadata": {},
   "source": [
    "## 1. Data Quality Checks"
   ]
  },
  {
   "cell_type": "markdown",
   "metadata": {},
   "source": [
    "### Null or missing values check\n",
    "Let check whether there are any null values in the train dataset as follows:"
   ]
  },
  {
   "cell_type": "code",
   "execution_count": 5,
   "metadata": {},
   "outputs": [
    {
     "data": {
      "text/plain": [
       "False"
      ]
     },
     "execution_count": 5,
     "metadata": {},
     "output_type": "execute_result"
    }
   ],
   "source": [
    "# Your code here\n",
    "train.isna().values.any()"
   ]
  },
  {
   "cell_type": "markdown",
   "metadata": {},
   "source": [
    "**Note:** Our null values check returns False but however, this does not really mean that this case has been closed as the data is also described as *\"Values of -1 indicate that the feature was missing from the observation\"*. Therefore I take it that Porto Seguro has simply conducted a blanket replacement of all null values in the data with the value of -1. Let us now inspect if there where any missing values in the data."
   ]
  },
  {
   "cell_type": "markdown",
   "metadata": {},
   "source": [
    "Here we can see that which columns contained -1 in their values so we could easily for example make a blanket replacement of all -1 with nulls first as follows:"
   ]
  },
  {
   "cell_type": "code",
   "execution_count": 6,
   "metadata": {},
   "outputs": [],
   "source": [
    "train_copy = train.copy()\n",
    "train_copy = train_copy.replace(-1, np.NaN)"
   ]
  },
  {
   "cell_type": "markdown",
   "metadata": {},
   "source": [
    "We can use \"Missingno\" to visualize missing values in the dataset."
   ]
  },
  {
   "cell_type": "code",
   "execution_count": 7,
   "metadata": {},
   "outputs": [
    {
     "data": {
      "text/plain": [
       "<matplotlib.axes._subplots.AxesSubplot at 0x25685fdb8d0>"
      ]
     },
     "execution_count": 7,
     "metadata": {},
     "output_type": "execute_result"
    },
    {
     "data": {
      "image/png": "[encoded data removed]",
      "text/plain": [
       "<Figure size 1440x1008 with 2 Axes>"
      ]
     },
     "metadata": {
      "needs_background": "light"
     },
     "output_type": "display_data"
    }
   ],
   "source": [
    "# If you don't have \"Missingno\" package, use this command to install\n",
    "# (Linux) conda install -c conda-forge missingno\n",
    "import missingno as msno\n",
    "\n",
    "msno.matrix(df=train_copy.iloc[:, 2:39], figsize=(20, 14), color=(0.42, 0.1, 0.05))"
   ]
  },
  {
   "cell_type": "code",
   "execution_count": 8,
   "metadata": {},
   "outputs": [
    {
     "data": {
      "text/plain": [
       "ps_car_12             1\n",
       "ps_car_11             5\n",
       "ps_car_02_cat         5\n",
       "ps_ind_04_cat        83\n",
       "ps_car_01_cat       107\n",
       "ps_ind_02_cat       216\n",
       "ps_car_09_cat       569\n",
       "ps_ind_05_cat      5809\n",
       "ps_car_07_cat     11489\n",
       "ps_car_14         42620\n",
       "ps_reg_03        107772\n",
       "ps_car_05_cat    266551\n",
       "ps_car_03_cat    411231\n",
       "dtype: int64"
      ]
     },
     "execution_count": 8,
     "metadata": {},
     "output_type": "execute_result"
    }
   ],
   "source": [
    "# List null columns name\n",
    "list_null=train_copy[train_copy.columns[2:]].isna().sum(axis=0).sort_values(axis=0, ascending=True)\n",
    "list_null[list_null!=0]"
   ]
  },
  {
   "cell_type": "markdown",
   "metadata": {},
   "source": [
    "#### Target variable inspection"
   ]
  },
  {
   "cell_type": "code",
   "execution_count": 9,
   "metadata": {},
   "outputs": [
    {
     "data": {
      "text/plain": [
       "<matplotlib.axes._subplots.AxesSubplot at 0x256a4a0f208>"
      ]
     },
     "execution_count": 9,
     "metadata": {},
     "output_type": "execute_result"
    },
    {
     "data": {
      "image/png": "[encoded data removed]",
      "text/plain": [
       "<Figure size 432x288 with 1 Axes>"
      ]
     },
     "metadata": {
      "needs_background": "light"
     },
     "output_type": "display_data"
    }
   ],
   "source": [
    "# Using countplot to represent target\n",
    "sns.countplot(x=train_copy['target'],data=train_copy)"
   ]
  },
  {
   "cell_type": "markdown",
   "metadata": {},
   "source": [
    "## 2. Feature inspection and filtering"
   ]
  },
  {
   "cell_type": "markdown",
   "metadata": {},
   "source": [
    "### Correlation plots\n",
    "As a starter, let us generate some linear correlation plots just to have a quick look at how a feature is linearly correlated to the next and perhaps start gaining some insights from here. At this juncture, I will use the seaborn statistical visualisation package to plot a heatmap of the correlation values. Conveniently, Pandas dataframes come with the corr() method inbuilt, which calculates the Pearson correlation. Also as convenient is Seaborn's way of invoking a correlation plot. Just literally the word \"heatmap\""
   ]
  },
  {
   "cell_type": "markdown",
   "metadata": {},
   "source": [
    "#### Correlation of float features"
   ]
  },
  {
   "cell_type": "code",
   "execution_count": 10,
   "metadata": {},
   "outputs": [],
   "source": [
    "train_float = train.select_dtypes(include=['float64'])\n",
    "train_int = train.select_dtypes(include=['int64'])"
   ]
  },
  {
   "cell_type": "code",
   "execution_count": 11,
   "metadata": {},
   "outputs": [
    {
     "data": {
      "image/png": "[encoded data removed]",
      "text/plain": [
       "<Figure size 1152x864 with 2 Axes>"
      ]
     },
     "metadata": {
      "needs_background": "light"
     },
     "output_type": "display_data"
    }
   ],
   "source": [
    "colormap = plt.cm.magma\n",
    "plt.figure(figsize=(16, 12))\n",
    "plt.title(\"Paerson correlation of continuous features\", y=1.05, size=15)\n",
    "sns.heatmap(train_float.corr(), linewidths=0.1, vmax=1.0, square=True,\n",
    "           cmap=colormap)\n",
    "plt.show()"
   ]
  },
  {
   "cell_type": "markdown",
   "metadata": {},
   "source": [
    "From the correlation plot, we can see that the majority of the features display zero or no correlation to one another. This is quite an interesting observation that will warrant our further investigation later down. For now, the paired features that display a positive linear correlation are listed as follows:\n",
    "\n",
    "(ps_reg_01, ps_reg_03)\n",
    "\n",
    "(ps_reg_02, ps_reg_03)\n",
    "\n",
    "(ps_car_12, ps_car_13)\n",
    "\n",
    "(ps_car_13, ps_car_15)"
   ]
  },
  {
   "cell_type": "markdown",
   "metadata": {},
   "source": [
    "### Correlation of integer features"
   ]
  },
  {
   "cell_type": "code",
   "execution_count": 12,
   "metadata": {},
   "outputs": [
    {
     "data": {
      "image/png": "[encoded data removed]",
      "text/plain": [
       "<Figure size 1152x864 with 2 Axes>"
      ]
     },
     "metadata": {
      "needs_background": "light"
     },
     "output_type": "display_data"
    }
   ],
   "source": [
    "# Your code here\n",
    "colormap = plt.cm.magma\n",
    "plt.figure(figsize=(16, 12))\n",
    "plt.title(\"Paerson correlation of continuous features\", y=1.05, size=15)\n",
    "sns.heatmap(train_int.corr(), linewidths=0.1, vmax=1.0, square=True,\n",
    "           cmap=colormap)\n",
    "plt.show()"
   ]
  },
  {
   "cell_type": "markdown",
   "metadata": {},
   "source": [
    "#### Which features have negatively correlation?\n",
    "Negatively correlated features : \n",
    "\n",
    "(ps_ind_06_bin,ps_ind_07_bin)\n",
    "\n",
    "(ps_ind_06_bin,ps_ind_08_bin)\n",
    "\n",
    "(ps_ind_06_bin,ps_ind_09_bin)\n",
    "\n",
    "(ps_ind_07_bin,ps_ind_08_bin)\n",
    "\n",
    "(ps_ind_07_bin,ps_ind_09_bin)\n",
    "\n",
    "(ps_ind_08_bin,ps_ind_09_bin)\n",
    "\n",
    "(ps_ind_18_bin,ps_ind_15)\n",
    "\n",
    "(ps_ind_18_bin,ps_ind_16_bin)\n",
    "\n",
    "(ps_ind_17_bin,ps_ind_16_bin)\n"
   ]
  },
  {
   "cell_type": "markdown",
   "metadata": {},
   "source": [
    "### Binary features inspection\n",
    "Another aspect of the data that we may want to inspect would be the coulmns that only contain binary valeus, i.e where values take on only either of the two values 1 or 0. Proceeding, we store all columns that contain these binary values and then generate a vertical plotly bar plot of these binary values as follows:"
   ]
  },
  {
   "cell_type": "code",
   "execution_count": 13,
   "metadata": {},
   "outputs": [],
   "source": [
    "bin_col = list(filter(lambda x: '_bin' in x, train.columns))\n",
    "bin_value_counts = train[bin_col].apply(pd.value_counts)"
   ]
  },
  {
   "cell_type": "code",
   "execution_count": 25,
   "metadata": {},
   "outputs": [
    {
     "data": {
      "text/html": [
       "<div>\n",
       "<style scoped>\n",
       "    .dataframe tbody tr th:only-of-type {\n",
       "        vertical-align: middle;\n",
       "    }\n",
       "\n",
       "    .dataframe tbody tr th {\n",
       "        vertical-align: top;\n",
       "    }\n",
       "\n",
       "    .dataframe thead th {\n",
       "        text-align: right;\n",
       "    }\n",
       "</style>\n",
       "<table border=\"1\" class=\"dataframe\">\n",
       "  <thead>\n",
       "    <tr style=\"text-align: right;\">\n",
       "      <th></th>\n",
       "      <th>ps_ind_06_bin</th>\n",
       "      <th>ps_ind_07_bin</th>\n",
       "      <th>ps_ind_08_bin</th>\n",
       "      <th>ps_ind_09_bin</th>\n",
       "      <th>ps_ind_10_bin</th>\n",
       "      <th>ps_ind_11_bin</th>\n",
       "      <th>ps_ind_12_bin</th>\n",
       "      <th>ps_ind_13_bin</th>\n",
       "      <th>ps_ind_16_bin</th>\n",
       "      <th>ps_ind_17_bin</th>\n",
       "      <th>ps_ind_18_bin</th>\n",
       "      <th>ps_calc_15_bin</th>\n",
       "      <th>ps_calc_16_bin</th>\n",
       "      <th>ps_calc_17_bin</th>\n",
       "      <th>ps_calc_18_bin</th>\n",
       "      <th>ps_calc_19_bin</th>\n",
       "      <th>ps_calc_20_bin</th>\n",
       "    </tr>\n",
       "  </thead>\n",
       "  <tbody>\n",
       "    <tr>\n",
       "      <td>0</td>\n",
       "      <td>360852</td>\n",
       "      <td>442223</td>\n",
       "      <td>497644</td>\n",
       "      <td>484917</td>\n",
       "      <td>594990</td>\n",
       "      <td>594205</td>\n",
       "      <td>589594</td>\n",
       "      <td>594648</td>\n",
       "      <td>201882</td>\n",
       "      <td>523143</td>\n",
       "      <td>503879</td>\n",
       "      <td>522342</td>\n",
       "      <td>221514</td>\n",
       "      <td>265356</td>\n",
       "      <td>424278</td>\n",
       "      <td>387469</td>\n",
       "      <td>503955</td>\n",
       "    </tr>\n",
       "    <tr>\n",
       "      <td>1</td>\n",
       "      <td>234360</td>\n",
       "      <td>152989</td>\n",
       "      <td>97568</td>\n",
       "      <td>110295</td>\n",
       "      <td>222</td>\n",
       "      <td>1007</td>\n",
       "      <td>5618</td>\n",
       "      <td>564</td>\n",
       "      <td>393330</td>\n",
       "      <td>72069</td>\n",
       "      <td>91333</td>\n",
       "      <td>72870</td>\n",
       "      <td>373698</td>\n",
       "      <td>329856</td>\n",
       "      <td>170934</td>\n",
       "      <td>207743</td>\n",
       "      <td>91257</td>\n",
       "    </tr>\n",
       "  </tbody>\n",
       "</table>\n",
       "</div>"
      ],
      "text/plain": [
       "   ps_ind_06_bin  ps_ind_07_bin  ps_ind_08_bin  ps_ind_09_bin  ps_ind_10_bin  \\\n",
       "0         360852         442223         497644         484917         594990   \n",
       "1         234360         152989          97568         110295            222   \n",
       "\n",
       "   ps_ind_11_bin  ps_ind_12_bin  ps_ind_13_bin  ps_ind_16_bin  ps_ind_17_bin  \\\n",
       "0         594205         589594         594648         201882         523143   \n",
       "1           1007           5618            564         393330          72069   \n",
       "\n",
       "   ps_ind_18_bin  ps_calc_15_bin  ps_calc_16_bin  ps_calc_17_bin  \\\n",
       "0         503879          522342          221514          265356   \n",
       "1          91333           72870          373698          329856   \n",
       "\n",
       "   ps_calc_18_bin  ps_calc_19_bin  ps_calc_20_bin  \n",
       "0          424278          387469          503955  \n",
       "1          170934          207743           91257  "
      ]
     },
     "execution_count": 25,
     "metadata": {},
     "output_type": "execute_result"
    }
   ],
   "source": [
    "bin_value_counts"
   ]
  },
  {
   "cell_type": "code",
   "execution_count": 37,
   "metadata": {},
   "outputs": [
    {
     "data": {
      "text/plain": [
       "['ps_ind_06_bin',\n",
       " 'ps_ind_07_bin',\n",
       " 'ps_ind_08_bin',\n",
       " 'ps_ind_09_bin',\n",
       " 'ps_ind_10_bin',\n",
       " 'ps_ind_11_bin',\n",
       " 'ps_ind_12_bin',\n",
       " 'ps_ind_13_bin',\n",
       " 'ps_ind_16_bin',\n",
       " 'ps_ind_17_bin',\n",
       " 'ps_ind_18_bin',\n",
       " 'ps_calc_15_bin',\n",
       " 'ps_calc_16_bin',\n",
       " 'ps_calc_17_bin',\n",
       " 'ps_calc_18_bin',\n",
       " 'ps_calc_19_bin',\n",
       " 'ps_calc_20_bin']"
      ]
     },
     "execution_count": 37,
     "metadata": {},
     "output_type": "execute_result"
    }
   ],
   "source": [
    "bin_value_counts.columns.tolist()"
   ]
  },
  {
   "cell_type": "code",
   "execution_count": 39,
   "metadata": {},
   "outputs": [
    {
     "data": {
      "text/plain": [
       "<matplotlib.axes._subplots.AxesSubplot at 0x25689016278>"
      ]
     },
     "execution_count": 39,
     "metadata": {},
     "output_type": "execute_result"
    },
    {
     "data": {
      "image/png": "[encoded data removed]",
      "text/plain": [
       "<Figure size 432x288 with 1 Axes>"
      ]
     },
     "metadata": {
      "needs_background": "light"
     },
     "output_type": "display_data"
    }
   ],
   "source": [
    "# hint pandas plot.bar with stacked=True\n",
    "bin_value_counts.T.plot(kind='bar', stacked=True)"
   ]
  },
  {
   "cell_type": "markdown",
   "metadata": {},
   "source": [
    "Those columns ps_ind_10_bin, ps_ind_11_bin, ps_ind_12_bin, ps_ind_13_bin which are completely dominated by zeros. They do not contain much information."
   ]
  },
  {
   "cell_type": "markdown",
   "metadata": {},
   "source": [
    "## 3. Preprocess Data"
   ]
  },
  {
   "cell_type": "code",
   "execution_count": 41,
   "metadata": {},
   "outputs": [],
   "source": [
    "# Import train_test_split \n",
    "from sklearn.model_selection import train_test_split"
   ]
  },
  {
   "cell_type": "code",
   "execution_count": 42,
   "metadata": {},
   "outputs": [],
   "source": [
    "train_copy.dropna(subset=['ps_ind_02_cat',\n",
    " 'ps_ind_04_cat',\n",
    " 'ps_ind_05_cat',\n",
    " 'ps_reg_03',\n",
    " 'ps_car_01_cat',\n",
    " 'ps_car_02_cat',\n",
    " 'ps_car_03_cat',\n",
    " 'ps_car_05_cat',\n",
    " 'ps_car_07_cat',\n",
    " 'ps_car_09_cat',\n",
    " 'ps_car_11',\n",
    " 'ps_car_12',\n",
    " 'ps_car_14'], axis=0, inplace= True)\n",
    "train_copy.isnull().sum()\n",
    "train_copy.shape\n",
    "# Define X (features), y (target)\n",
    "X = train_copy.drop('target', 1) # Your code here\n",
    "y = train_copy.target# Your code here"
   ]
  },
  {
   "cell_type": "code",
   "execution_count": 43,
   "metadata": {},
   "outputs": [],
   "source": [
    "# Split data into train and test set\n",
    "X_train, X_test, y_train, y_test = train_test_split(X,y,test_size=0.2,random_state=101)"
   ]
  },
  {
   "cell_type": "markdown",
   "metadata": {},
   "source": [
    "#### Randomly Under-Sampling the Training Dataset¶\n",
    "**Note:** Validate ratio between 2 class after Under-Sampling"
   ]
  },
  {
   "cell_type": "code",
   "execution_count": 44,
   "metadata": {},
   "outputs": [
    {
     "name": "stdout",
     "output_type": "stream",
     "text": [
      "Random under-sampling:\n",
      "1    5670\n",
      "0    5670\n",
      "Name: target, dtype: int64\n"
     ]
    },
    {
     "data": {
      "image/png": "[encoded data removed]",
      "text/plain": [
       "<Figure size 432x288 with 1 Axes>"
      ]
     },
     "metadata": {
      "needs_background": "light"
     },
     "output_type": "display_data"
    }
   ],
   "source": [
    "# Your code here\n",
    "count_class_0, count_class_1 = train_copy.target.value_counts()\n",
    "\n",
    "# Divide by class\n",
    "df_class_0 = train_copy[train_copy['target'] == 0]\n",
    "df_class_1 = train_copy[train_copy['target'] == 1]\n",
    "\n",
    "df_class_0_under = df_class_0.sample(count_class_1)\n",
    "df_under = pd.concat([df_class_0_under, df_class_1], axis=0)\n",
    "\n",
    "print('Random under-sampling:')\n",
    "print(df_under.target.value_counts())\n",
    "\n",
    "df_under.target.value_counts().plot(kind='bar', title='Count (target)');"
   ]
  },
  {
   "cell_type": "markdown",
   "metadata": {},
   "source": [
    "#### Randomly Over-Sampling the Training Dataset\n",
    "**Note:** Validate ratio between 2 class after Over-Sampling"
   ]
  },
  {
   "cell_type": "code",
   "execution_count": 45,
   "metadata": {},
   "outputs": [
    {
     "name": "stdout",
     "output_type": "stream",
     "text": [
      "Random over-sampling:\n",
      "1    119261\n",
      "0    119261\n",
      "Name: target, dtype: int64\n"
     ]
    },
    {
     "data": {
      "image/png": "[encoded data removed]",
      "text/plain": [
       "<Figure size 432x288 with 1 Axes>"
      ]
     },
     "metadata": {
      "needs_background": "light"
     },
     "output_type": "display_data"
    }
   ],
   "source": [
    "# Your code here\n",
    "df_class_1_over = df_class_1.sample(count_class_0, replace=True)\n",
    "df_over = pd.concat([df_class_0, df_class_1_over], axis=0)\n",
    "\n",
    "print('Random over-sampling:')\n",
    "print(df_over.target.value_counts())\n",
    "\n",
    "df_over.target.value_counts().plot(kind='bar', title='Count (target)');"
   ]
  },
  {
   "cell_type": "markdown",
   "metadata": {},
   "source": [
    "## 4. Modeling"
   ]
  },
  {
   "cell_type": "code",
   "execution_count": 46,
   "metadata": {},
   "outputs": [],
   "source": [
    "# Spot check with LogisticRegression, DecisionTreeClassifier, RandomForestClassifier, BernoulliNB, GaussianNB\n",
    "# Import libraries and and create model\n",
    "# Your code here\n",
    "from sklearn.linear_model import LogisticRegression\n",
    "\n",
    "from sklearn import tree\n",
    "\n",
    "from sklearn.ensemble import RandomForestClassifier\n",
    "\n",
    "from sklearn.naive_bayes import BernoulliNB\n",
    "\n",
    "from sklearn.naive_bayes import GaussianNB\n",
    "\n",
    "lr = LogisticRegression() #Your code here\n",
    "dtc = tree.DecisionTreeClassifier() #Your code here\n",
    "rfc = RandomForestClassifier(n_estimators=100) #Your code here\n",
    "bnb = BernoulliNB() #Your code here\n",
    "gnb = GaussianNB() #Your code here\n",
    "\n",
    "models = [lr, dtc, rfc, gnb, bnb]\n",
    "models_name = [\"Logistic Regression\", \"Decision Tree\", \"Random Forest\", \"Bernoulli NB\", \"Gaussian NB\"]"
   ]
  },
  {
   "cell_type": "markdown",
   "metadata": {},
   "source": [
    "## 5. Evaluation Metrics"
   ]
  },
  {
   "cell_type": "code",
   "execution_count": 47,
   "metadata": {},
   "outputs": [],
   "source": [
    "# Import confusion_matrix, classification_report\n",
    "# Your code here\n",
    "from sklearn.metrics import confusion_matrix, classification_report\n",
    "# We create an utils function, that take a trained model as argument and print out confusion matrix\n",
    "# classification report base on X and y\n",
    "def evaluate_model(estimator, X, y):\n",
    "    # Your code here\n",
    "    y_pred = estimator.predict(X)\n",
    "    cm = confusion_matrix(y, y_pred)\n",
    "    print('Confusion matrax \\n',cm)\n",
    "    cr = classification_report(y, y_pred)\n",
    "    print('Classification_report \\n', cr)\n",
    "    return 0"
   ]
  },
  {
   "cell_type": "markdown",
   "metadata": {},
   "source": [
    "### Evaluate with Origin dataset"
   ]
  },
  {
   "cell_type": "code",
   "execution_count": 48,
   "metadata": {},
   "outputs": [
    {
     "name": "stdout",
     "output_type": "stream",
     "text": [
      "Model: Logistic Regression\n",
      "Confusion matrax \n",
      " [[23821     0]\n",
      " [ 1166     0]]\n",
      "Classification_report \n",
      "               precision    recall  f1-score   support\n",
      "\n",
      "           0       0.95      1.00      0.98     23821\n",
      "           1       0.00      0.00      0.00      1166\n",
      "\n",
      "    accuracy                           0.95     24987\n",
      "   macro avg       0.48      0.50      0.49     24987\n",
      "weighted avg       0.91      0.95      0.93     24987\n",
      "\n",
      "=======================================\n",
      "Model: Decision Tree\n",
      "Confusion matrax \n",
      " [[22400  1421]\n",
      " [ 1069    97]]\n",
      "Classification_report \n",
      "               precision    recall  f1-score   support\n",
      "\n",
      "           0       0.95      0.94      0.95     23821\n",
      "           1       0.06      0.08      0.07      1166\n",
      "\n",
      "    accuracy                           0.90     24987\n",
      "   macro avg       0.51      0.51      0.51     24987\n",
      "weighted avg       0.91      0.90      0.91     24987\n",
      "\n",
      "=======================================\n",
      "Model: Random Forest\n",
      "Confusion matrax \n",
      " [[23821     0]\n",
      " [ 1166     0]]\n",
      "Classification_report \n",
      "               precision    recall  f1-score   support\n",
      "\n",
      "           0       0.95      1.00      0.98     23821\n",
      "           1       0.00      0.00      0.00      1166\n",
      "\n",
      "    accuracy                           0.95     24987\n",
      "   macro avg       0.48      0.50      0.49     24987\n",
      "weighted avg       0.91      0.95      0.93     24987\n",
      "\n",
      "=======================================\n",
      "Model: Bernoulli NB\n",
      "Confusion matrax \n",
      " [[23821     0]\n",
      " [ 1166     0]]\n",
      "Classification_report \n",
      "               precision    recall  f1-score   support\n",
      "\n",
      "           0       0.95      1.00      0.98     23821\n",
      "           1       0.00      0.00      0.00      1166\n",
      "\n",
      "    accuracy                           0.95     24987\n",
      "   macro avg       0.48      0.50      0.49     24987\n",
      "weighted avg       0.91      0.95      0.93     24987\n",
      "\n",
      "=======================================\n",
      "Model: Gaussian NB\n",
      "Confusion matrax \n",
      " [[23821     0]\n",
      " [ 1166     0]]\n",
      "Classification_report \n",
      "               precision    recall  f1-score   support\n",
      "\n",
      "           0       0.95      1.00      0.98     23821\n",
      "           1       0.00      0.00      0.00      1166\n",
      "\n",
      "    accuracy                           0.95     24987\n",
      "   macro avg       0.48      0.50      0.49     24987\n",
      "weighted avg       0.91      0.95      0.93     24987\n",
      "\n",
      "=======================================\n"
     ]
    }
   ],
   "source": [
    "for idx, model in enumerate(models):\n",
    "    print(\"Model: {}\".format(models_name[idx]))\n",
    "    # Your code here\n",
    "    # Fit your model with Origin dataset\n",
    "    model.fit(X_train, y_train)\n",
    "    # Evaluate model with X_test, y_test\n",
    "    evaluate_model(model, X_test, y_test)\n",
    "    print(\"=======================================\")"
   ]
  },
  {
   "cell_type": "markdown",
   "metadata": {},
   "source": [
    "### Evaluate with *Undersampled* dataset"
   ]
  },
  {
   "cell_type": "code",
   "execution_count": 49,
   "metadata": {},
   "outputs": [
    {
     "name": "stdout",
     "output_type": "stream",
     "text": [
      "Model: Logistic Regression\n",
      "Confusion matrax \n",
      " [[23821     0]\n",
      " [ 1166     0]]\n",
      "Classification_report \n",
      "               precision    recall  f1-score   support\n",
      "\n",
      "           0       0.95      1.00      0.98     23821\n",
      "           1       0.00      0.00      0.00      1166\n",
      "\n",
      "    accuracy                           0.95     24987\n",
      "   macro avg       0.48      0.50      0.49     24987\n",
      "weighted avg       0.91      0.95      0.93     24987\n",
      "\n",
      "=======================================\n",
      "Model: Decision Tree\n",
      "Confusion matrax \n",
      " [[22414  1407]\n",
      " [ 1072    94]]\n",
      "Classification_report \n",
      "               precision    recall  f1-score   support\n",
      "\n",
      "           0       0.95      0.94      0.95     23821\n",
      "           1       0.06      0.08      0.07      1166\n",
      "\n",
      "    accuracy                           0.90     24987\n",
      "   macro avg       0.51      0.51      0.51     24987\n",
      "weighted avg       0.91      0.90      0.91     24987\n",
      "\n",
      "=======================================\n",
      "Model: Random Forest\n",
      "Confusion matrax \n",
      " [[23821     0]\n",
      " [ 1166     0]]\n",
      "Classification_report \n",
      "               precision    recall  f1-score   support\n",
      "\n",
      "           0       0.95      1.00      0.98     23821\n",
      "           1       0.00      0.00      0.00      1166\n",
      "\n",
      "    accuracy                           0.95     24987\n",
      "   macro avg       0.48      0.50      0.49     24987\n",
      "weighted avg       0.91      0.95      0.93     24987\n",
      "\n",
      "=======================================\n",
      "Model: Bernoulli NB\n",
      "Confusion matrax \n",
      " [[23821     0]\n",
      " [ 1166     0]]\n",
      "Classification_report \n",
      "               precision    recall  f1-score   support\n",
      "\n",
      "           0       0.95      1.00      0.98     23821\n",
      "           1       0.00      0.00      0.00      1166\n",
      "\n",
      "    accuracy                           0.95     24987\n",
      "   macro avg       0.48      0.50      0.49     24987\n",
      "weighted avg       0.91      0.95      0.93     24987\n",
      "\n",
      "=======================================\n",
      "Model: Gaussian NB\n",
      "Confusion matrax \n",
      " [[23821     0]\n",
      " [ 1166     0]]\n",
      "Classification_report \n",
      "               precision    recall  f1-score   support\n",
      "\n",
      "           0       0.95      1.00      0.98     23821\n",
      "           1       0.00      0.00      0.00      1166\n",
      "\n",
      "    accuracy                           0.95     24987\n",
      "   macro avg       0.48      0.50      0.49     24987\n",
      "weighted avg       0.91      0.95      0.93     24987\n",
      "\n",
      "=======================================\n"
     ]
    }
   ],
   "source": [
    "X = df_under.drop('target', 1) # Your code here\n",
    "y = df_under.target# Your code here\n",
    "for idx, model in enumerate(models):\n",
    "    print(\"Model: {}\".format(models_name[idx]))\n",
    "    # Your code here\n",
    "    # Fit your model with Origin dataset\n",
    "    model.fit(X_train, y_train)\n",
    "    # Evaluate model with X_test, y_test\n",
    "    evaluate_model(model, X_test, y_test)\n",
    "    print(\"=======================================\")"
   ]
  },
  {
   "cell_type": "markdown",
   "metadata": {},
   "source": [
    "### Evaluate with *Oversampled* dataset"
   ]
  },
  {
   "cell_type": "code",
   "execution_count": 50,
   "metadata": {},
   "outputs": [
    {
     "name": "stdout",
     "output_type": "stream",
     "text": [
      "Model: Logistic Regression\n",
      "Confusion matrax \n",
      " [[23821     0]\n",
      " [ 1166     0]]\n",
      "Classification_report \n",
      "               precision    recall  f1-score   support\n",
      "\n",
      "           0       0.95      1.00      0.98     23821\n",
      "           1       0.00      0.00      0.00      1166\n",
      "\n",
      "    accuracy                           0.95     24987\n",
      "   macro avg       0.48      0.50      0.49     24987\n",
      "weighted avg       0.91      0.95      0.93     24987\n",
      "\n",
      "=======================================\n",
      "Model: Decision Tree\n",
      "Confusion matrax \n",
      " [[22452  1369]\n",
      " [ 1068    98]]\n",
      "Classification_report \n",
      "               precision    recall  f1-score   support\n",
      "\n",
      "           0       0.95      0.94      0.95     23821\n",
      "           1       0.07      0.08      0.07      1166\n",
      "\n",
      "    accuracy                           0.90     24987\n",
      "   macro avg       0.51      0.51      0.51     24987\n",
      "weighted avg       0.91      0.90      0.91     24987\n",
      "\n",
      "=======================================\n",
      "Model: Random Forest\n",
      "Confusion matrax \n",
      " [[23821     0]\n",
      " [ 1166     0]]\n",
      "Classification_report \n",
      "               precision    recall  f1-score   support\n",
      "\n",
      "           0       0.95      1.00      0.98     23821\n",
      "           1       0.00      0.00      0.00      1166\n",
      "\n",
      "    accuracy                           0.95     24987\n",
      "   macro avg       0.48      0.50      0.49     24987\n",
      "weighted avg       0.91      0.95      0.93     24987\n",
      "\n",
      "=======================================\n",
      "Model: Bernoulli NB\n",
      "Confusion matrax \n",
      " [[23821     0]\n",
      " [ 1166     0]]\n",
      "Classification_report \n",
      "               precision    recall  f1-score   support\n",
      "\n",
      "           0       0.95      1.00      0.98     23821\n",
      "           1       0.00      0.00      0.00      1166\n",
      "\n",
      "    accuracy                           0.95     24987\n",
      "   macro avg       0.48      0.50      0.49     24987\n",
      "weighted avg       0.91      0.95      0.93     24987\n",
      "\n",
      "=======================================\n",
      "Model: Gaussian NB\n",
      "Confusion matrax \n",
      " [[23821     0]\n",
      " [ 1166     0]]\n",
      "Classification_report \n",
      "               precision    recall  f1-score   support\n",
      "\n",
      "           0       0.95      1.00      0.98     23821\n",
      "           1       0.00      0.00      0.00      1166\n",
      "\n",
      "    accuracy                           0.95     24987\n",
      "   macro avg       0.48      0.50      0.49     24987\n",
      "weighted avg       0.91      0.95      0.93     24987\n",
      "\n",
      "=======================================\n"
     ]
    }
   ],
   "source": [
    "X = df_over.drop('target', 1) # Your code here\n",
    "y = df_over.target# Your code here\n",
    "for idx, model in enumerate(models):\n",
    "    print(\"Model: {}\".format(models_name[idx]))\n",
    "    # Your code here\n",
    "    # Fit your model with Origin dataset\n",
    "    model.fit(X_train, y_train)\n",
    "    # Evaluate model with X_test, y_test\n",
    "    evaluate_model(model, X_test, y_test)\n",
    "    print(\"=======================================\")"
   ]
  },
  {
   "cell_type": "markdown",
   "metadata": {},
   "source": [
    "### Conclusion"
   ]
  },
  {
   "cell_type": "markdown",
   "metadata": {},
   "source": [
    "Accuracy:\n",
    "\n",
    "    Lowest: Decision Tree\n",
    "    \n",
    "    Highest: Others\n",
    "\n",
    "Recall:\n",
    "    \n",
    "    Lowest: Decision Tree\n",
    "    \n",
    "    Highest: Others\n",
    "    \n",
    "F1_score:\n",
    "    \n",
    "    Lowest: Decistion Tree\n",
    "    \n",
    "    Highest: Others"
   ]
  },
  {
   "cell_type": "markdown",
   "metadata": {},
   "source": [
    "## 6. GridsearchCV"
   ]
  },
  {
   "cell_type": "code",
   "execution_count": 53,
   "metadata": {},
   "outputs": [],
   "source": [
    "# Using gridsearchcv, random forest model and this param grid to find the best combination of parameters \n",
    "# Hint: example\n",
    "# https://stackoverflow.com/questions/30102973/how-to-get-best-estimator-on-gridsearchcv-random-forest-classifier-scikit\n",
    "\n",
    "param_grid = {\n",
    "    'bootstrap': [True],\n",
    "    'max_depth': [80, 90, 100, 110],\n",
    "    'max_features': [2, 3],\n",
    "    'min_samples_leaf': [3, 4, 5],\n",
    "    'min_samples_split': [8, 10, 12],\n",
    "    'n_estimators': [100, 200, 300, 1000]\n",
    "}\n",
    "\n"
   ]
  },
  {
   "cell_type": "markdown",
   "metadata": {},
   "source": [
    "#### which is the best combination of parameter"
   ]
  },
  {
   "cell_type": "code",
   "execution_count": null,
   "metadata": {},
   "outputs": [],
   "source": [
    "# Your code here\n",
    "from sklearn.model_selection import learning_curve, GridSearchCV\n",
    "from sklearn.datasets import make_classification\n",
    "from sklearn.ensemble import RandomForestClassifier\n",
    "\n",
    "X, y = make_classification(n_samples=1000,\n",
    "                           n_features=10,\n",
    "                           n_informative=3,\n",
    "                           n_redundant=0,\n",
    "                           n_repeated=0,\n",
    "                           n_classes=2,\n",
    "                           random_state=0,\n",
    "                           shuffle=False)\n",
    "\n",
    "\n",
    "rfc = RandomForestClassifier(n_jobs=-1,max_features= 'sqrt' ,n_estimators=50, oob_score = True) \n",
    "\n",
    "\n",
    "CV_rfc = GridSearchCV(estimator=rfc, param_grid=param_grid, cv= 5)\n",
    "CV_rfc.fit(X, y)\n",
    "print(CV_rfc.best_params_)"
   ]
  },
  {
   "cell_type": "markdown",
   "metadata": {},
   "source": [
    "# Done! Great Job."
   ]
  }
 ],
 "metadata": {
  "kernelspec": {
   "display_name": "Python 3",
   "language": "python",
   "name": "python3"
  },
  "language_info": {
   "codemirror_mode": {
    "name": "ipython",
    "version": 3
   },
   "file_extension": ".py",
   "mimetype": "text/x-python",
   "name": "python",
   "nbconvert_exporter": "python",
   "pygments_lexer": "ipython3",
   "version": "3.7.3"
  }
 },
 "nbformat": 4,
 "nbformat_minor": 2
}
